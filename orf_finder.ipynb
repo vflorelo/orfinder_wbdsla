{
 "cells": [
  {
   "cell_type": "markdown",
   "id": "89b8d903-a70c-412a-8f26-4287c0e9d09a",
   "metadata": {
    "jp-MarkdownHeadingCollapsed": true,
    "tags": []
   },
   "source": [
    "# 0. Preparación del entorno"
   ]
  },
  {
   "cell_type": "markdown",
   "id": "757b6ecf-d494-4c21-b0ff-a4c424fe7eb3",
   "metadata": {
    "jp-MarkdownHeadingCollapsed": true,
    "tags": []
   },
   "source": [
    "## Con el siguiente bloque de código importamos nuestras bibliotecas\n",
    "### Estas bibliotecas nos permiten simplificar el código empleado para que con pocas líneas podamos construir un programa que extraiga las regiones potencialmente codificantes de un genoma procariótico"
   ]
  },
  {
   "cell_type": "code",
   "execution_count": null,
   "id": "9689c2ad-a2e9-45f5-9c77-4576f7fcf9dd",
   "metadata": {},
   "outputs": [],
   "source": [
    "import pandas as pd\n",
    "import numpy  as np\n",
    "import re\n",
    "import credentials\n",
    "from Bio import Entrez"
   ]
  },
  {
   "cell_type": "markdown",
   "id": "c83bfb47-065b-49ac-b7df-41f8efbbc940",
   "metadata": {},
   "source": [
    "### Si deseas instalar estas bibliotecas en tu entorno, puedes ejecutar los siguientes comandos:\n",
    "\n",
    "```bash\n",
    "pip3 install --upgrade pandas\n",
    "pip3 install --upgrade numpy\n",
    "pip3 install --upgrade re\n",
    "pip3 install --upgrade Biopython\n",
    "```"
   ]
  },
  {
   "cell_type": "markdown",
   "id": "15fe8f0d-4843-4ea3-9c6c-05299e5240cf",
   "metadata": {
    "jp-MarkdownHeadingCollapsed": true,
    "tags": []
   },
   "source": [
    "# 1. Funciones para construir un buscador de ORFs con python"
   ]
  },
  {
   "cell_type": "markdown",
   "id": "12b604de-3050-4472-8986-71174b256378",
   "metadata": {
    "jp-MarkdownHeadingCollapsed": true,
    "tags": []
   },
   "source": [
    "## 1.1. Primeramente debemos definir el código genético estándar como un diccionario de python\n",
    "### La siguiente estructura de datos te permite cambiar a otros códigos genéticos como por ejemplo de las mitocondrias que pueden usar el codón `TGA` para decodificar triptofano en vez de un codón de paro"
   ]
  },
  {
   "cell_type": "code",
   "execution_count": null,
   "id": "cf888122-5e4a-4b06-a635-2bb580cd0e5e",
   "metadata": {},
   "outputs": [],
   "source": [
    "genetic_code = {\"AAA\":\"K\",\"AAC\":\"N\",\"AAG\":\"K\",\"AAT\":\"N\",\"ACA\":\"T\",\"ACC\":\"T\",\"ACG\":\"T\",\"ACT\":\"T\",\n",
    "                \"AGA\":\"R\",\"AGC\":\"S\",\"AGG\":\"R\",\"AGT\":\"S\",\"ATA\":\"I\",\"ATC\":\"I\",\"ATG\":\"M\",\"ATT\":\"I\",\n",
    "                \"CAA\":\"Q\",\"CAC\":\"H\",\"CAG\":\"Q\",\"CAT\":\"H\",\"CCA\":\"P\",\"CCC\":\"P\",\"CCG\":\"P\",\"CCT\":\"P\",\n",
    "                \"CGA\":\"R\",\"CGC\":\"R\",\"CGG\":\"R\",\"CGT\":\"R\",\"CTA\":\"L\",\"CTC\":\"L\",\"CTG\":\"L\",\"CTT\":\"L\",\n",
    "                \"GAA\":\"E\",\"GAC\":\"D\",\"GAG\":\"E\",\"GAT\":\"D\",\"GCA\":\"A\",\"GCC\":\"A\",\"GCG\":\"A\",\"GCT\":\"A\",\n",
    "                \"GGA\":\"G\",\"GGC\":\"G\",\"GGG\":\"G\",\"GGT\":\"G\",\"GTA\":\"V\",\"GTC\":\"V\",\"GTG\":\"V\",\"GTT\":\"V\",\n",
    "                \"TAA\":\"*\",\"TAC\":\"Y\",\"TAG\":\"*\",\"TAT\":\"Y\",\"TCA\":\"S\",\"TCC\":\"S\",\"TCG\":\"S\",\"TCT\":\"S\",\n",
    "                \"TGA\":\"*\",\"TGC\":\"C\",\"TGG\":\"W\",\"TGT\":\"C\",\"TTA\":\"L\",\"TTC\":\"F\",\"TTG\":\"L\",\"TTT\":\"F\"}"
   ]
  },
  {
   "cell_type": "markdown",
   "id": "b24df2c4-63bb-45ee-8d13-0cd23f375b3c",
   "metadata": {
    "jp-MarkdownHeadingCollapsed": true,
    "tags": []
   },
   "source": [
    "## 1.2. Con el siguiente bloque de código onstruimos una función sumamente simple para poner una secuencia en reverso complementario\n",
    "\n",
    "1. Primero ponemos todos los nucleótidos en máyusculas\n",
    "2. Luego remplazamos las bases por su reverso complementario, pero con minúsculas\n",
    "3. Luego regresamos la secuencia a mayúsculas\n",
    "4. Finalmente ponemos la secuencia en reverso con la notación `[::-1]`"
   ]
  },
  {
   "cell_type": "code",
   "execution_count": null,
   "id": "c1f2316e-c541-4443-8e69-5adb62c9e768",
   "metadata": {},
   "outputs": [],
   "source": [
    "def reverse_complement(sequence):\n",
    "    sequence = sequence.upper().replace(\"A\",\"t\").replace(\"C\",\"g\").replace(\"G\",\"c\").replace(\"T\",\"a\").upper()[::-1]\n",
    "    return sequence"
   ]
  },
  {
   "cell_type": "markdown",
   "id": "2d2fb6e1-91aa-4df4-8dc9-9316a9c9ff78",
   "metadata": {
    "jp-MarkdownHeadingCollapsed": true,
    "tags": []
   },
   "source": [
    "## 1.3. La siguiente celda contiene una función para partir nuestra secuencia en codones\n",
    "### Avanzamos de 3 en 3 nucleótidos y agregamos cada triplete a una lista de python"
   ]
  },
  {
   "cell_type": "code",
   "execution_count": null,
   "id": "a1d9b46d-a057-4a8e-9724-48ad008aa293",
   "metadata": {},
   "outputs": [],
   "source": [
    "def get_codon_list(genome):\n",
    "    codon_list = []\n",
    "    for i in range(0, len(genome), 3):\n",
    "        codon = genome[i:i+3]\n",
    "        codon_list.append(codon)\n",
    "    return codon_list"
   ]
  },
  {
   "cell_type": "markdown",
   "id": "8e272806-e87e-4bd7-8b9a-ae92c4b53d7c",
   "metadata": {
    "jp-MarkdownHeadingCollapsed": true,
    "tags": []
   },
   "source": [
    "## 1.4. En la siguiente celda, tenemos una función nos permite obtener el codón de inicio más proximo a un codón de paro\n",
    "### En caso de que un codón de paro no tenga un codón de inicio aledaño, nos regresa un valor nulo"
   ]
  },
  {
   "cell_type": "code",
   "execution_count": null,
   "id": "3ab117bf-cf2b-48e4-9a97-727d03162eee",
   "metadata": {},
   "outputs": [],
   "source": [
    "def get_nearest_start(stop_pos_df,start_pos_df,stop_pos):\n",
    "    cur_stop_pos_index = stop_pos_df[stop_pos_df[\"stop_pos\"]==stop_pos].index[0]\n",
    "    if(cur_stop_pos_index==0):\n",
    "        prev_stop_pos = 0\n",
    "    elif(cur_stop_pos_index<len(stop_pos_df)):\n",
    "        prev_stop_pos_index = cur_stop_pos_index - 1\n",
    "        prev_stop_pos = stop_pos_df[\"stop_pos\"][prev_stop_pos_index]\n",
    "    cur_start_pos_index_list = start_pos_df[(start_pos_df[\"start_pos\"]>=prev_stop_pos) & (start_pos_df[\"start_pos\"]<stop_pos)][\"start_pos\"].index\n",
    "    if (len(cur_start_pos_index_list)==0):\n",
    "        cur_start_pos = np.nan\n",
    "    else:\n",
    "        cur_start_pos_index = cur_start_pos_index_list[0]\n",
    "        cur_start_pos = start_pos_df[\"start_pos\"][cur_start_pos_index]\n",
    "    return cur_start_pos"
   ]
  },
  {
   "cell_type": "markdown",
   "id": "58d50106-bc77-429f-a7ec-56711ed0f823",
   "metadata": {
    "jp-MarkdownHeadingCollapsed": true,
    "tags": []
   },
   "source": [
    "## Breve repaso para traducir una secuencia nucleotídica"
   ]
  },
  {
   "cell_type": "markdown",
   "id": "d52d947e-58e7-4577-afd3-5f093daac113",
   "metadata": {},
   "source": [
    "### Consideremos la siguiente secuencia de 21 nucleótidos\n",
    "### `ATGAAACGTATTGTACCCTGA`\n",
    "\n",
    "### Si deseamos traducir dicha secuencia en aminoácidos, podemos hacerlo en seis marcos de lectura\n",
    "\n",
    "|Marco +1                                 |Marco +2                                |Marco +2                               |\n",
    "|:---------------------------------------:|:--------------------------------------:|:-------------------------------------:|\n",
    "|`ATG - AAA - CGT - ATT - GTA - CCC - TGA`|`TGA - AAC - GTA - TTG - TAC - CCT - GA`|`GAA - ACG - TAT - TGT - ACC - CTG - A`|\n",
    "|` M     K     R     I     V     P     *` |` *     N     V     L     Y     P     X`|` E     T     Y     C     T     L    X`|\n",
    "\n",
    "|Marco -1                                 |Marco -2                                |Marco -2                               |\n",
    "|:---------------------------------------:|:--------------------------------------:|:-------------------------------------:|\n",
    "|`TCA - GGG - TAC - AAT - ACG - TTT - CAT`|`CAG - GGT - ACA - ATA - CGT - TTC - AT`|`AGG - GTA - CAA - TAC - GTT - TCA - T`|\n",
    "|` S     G     Y     N     T     F     H` |` Q     G     T     I     R     F     X`|` R     V     Q     Y     V     S    X`|"
   ]
  },
  {
   "cell_type": "markdown",
   "id": "363b2d57-e31e-48ec-8cbc-f3caf2c2896e",
   "metadata": {
    "jp-MarkdownHeadingCollapsed": true,
    "tags": []
   },
   "source": [
    "## 1.5. Con el siguiente bloque de código construimos una función para obtener las posiciones de los distintos ORFs en los 3 distintos marcos de lectura"
   ]
  },
  {
   "cell_type": "markdown",
   "id": "39aeb996-effb-4129-9ba4-f59d330d7b89",
   "metadata": {},
   "source": [
    "### Esta función toma 3 argumentos:\n",
    "* Una secuencia genómica\n",
    "* Un marco de traducción (1,2,3,-1,-2,-3)\n",
    "* Un umbral para excluir ORFs de tamaño pequeño\n",
    "\n",
    "### Nuestra función realiza los siguientes pasos:\n",
    "\n",
    "1. Primero calcula la longitud del genoma\n",
    "2. Construye una lista de codones a partir del marco de lectura especificado\n",
    "3. La búsqueda de ORFs se realiza a partir de los codones de paro, y la función que construimos anteriormente nos permite encontrar cual es el codon de inicio que le corresponde a cada codon de paro (en caso de que encuentre uno)\n",
    "4. Posteriormente calcula la longitud del ORF y excluye los ORFs que sean de un tamaño inferior al umbral específicado\n",
    "\n",
    "### La función nos entrega una lista de posiciones que corresponden al inicio y término del ORF en cada marco de lectura"
   ]
  },
  {
   "cell_type": "code",
   "execution_count": null,
   "id": "a58da030-e044-40ee-ab47-8de0fff7ee70",
   "metadata": {},
   "outputs": [],
   "source": [
    "def get_orf_pos_list(genome,frame,orf_size):\n",
    "    genome_len = len(genome)\n",
    "    if frame<0:\n",
    "        genome = reverse_complement(genome)\n",
    "        tmp_frame = -1 * frame\n",
    "        genome = genome[tmp_frame-1:]\n",
    "    else:\n",
    "        genome = genome.upper()\n",
    "        genome = genome[frame-1:]\n",
    "    codon_list     = get_codon_list(genome)\n",
    "    stop_pos_list  = []\n",
    "    orf_pos_list   = []\n",
    "    codon_df       = pd.DataFrame(codon_list,columns=[\"codon\"])\n",
    "    codon_df       = pd.DataFrame(codon_list,columns=[\"codon\"])\n",
    "    start_pos_list = list(codon_df[codon_df[\"codon\"]==\"ATG\"].index)\n",
    "    stop_pos_list  = list(codon_df[(codon_df[\"codon\"]==\"TAA\") | (codon_df[\"codon\"]==\"TAG\") | (codon_df[\"codon\"]==\"TGA\")].index)\n",
    "    start_pos_df   = pd.DataFrame(start_pos_list,columns=[\"start_pos\"])\n",
    "    stop_pos_df    = pd.DataFrame(stop_pos_list,columns=[\"stop_pos\"])\n",
    "    pos_df         = stop_pos_df.copy()\n",
    "    pos_df[\"start_pos\"] = pos_df[\"stop_pos\"].apply(lambda x: get_nearest_start(stop_pos_df,start_pos_df,x))\n",
    "    pos_df = pos_df[pos_df[\"start_pos\"]>0]\n",
    "    pos_df[\"orf_len\"]   = pos_df[\"stop_pos\"] - pos_df[\"start_pos\"] + 1\n",
    "    pos_df = pos_df[pos_df[\"orf_len\"]>=orf_size]\n",
    "    if frame >0:\n",
    "        pos_df[\"orf_start_pos\"] = ((pos_df[\"start_pos\"] * 3) + 1) + (frame - 1)\n",
    "        pos_df[\"orf_stop_pos\"]  = ((pos_df[\"stop_pos\"]  + 1) * 3) + (frame - 1)\n",
    "    elif frame<0:\n",
    "        pos_df[\"orf_start_pos\"] = (genome_len + (1+frame) ) - ( pos_df[\"start_pos\"]     * 3)\n",
    "        pos_df[\"orf_stop_pos\"]  = (genome_len + (1+frame) ) - ((pos_df[\"stop_pos\"] + 1) * 3)\n",
    "    orf_pos_list = pos_df[[\"orf_start_pos\",\"orf_stop_pos\"]].astype(int).values.tolist()\n",
    "    return orf_pos_list"
   ]
  },
  {
   "cell_type": "markdown",
   "id": "bcf55fcc-c6a4-45f2-8cf0-fd96ea6eabbe",
   "metadata": {
    "jp-MarkdownHeadingCollapsed": true,
    "tags": []
   },
   "source": [
    "## 1.6. Con la siguiente función podemos obtener la secuencia nucleotídica de cada ORF tomando sus coordenadas como indices de python para obtener sub-secuencias a partir de una cadena de texto (el genoma)"
   ]
  },
  {
   "cell_type": "markdown",
   "id": "eaa09076-e3ed-46c4-ab21-0c5259369857",
   "metadata": {},
   "source": [
    "### La función toma 3 argumentos\n",
    "* Un dataframe de pandas\n",
    "* Una secuencia genómica\n",
    "* El identificador de un ORF\n",
    "\n",
    "### A partir del identificador del ORF, la función determina la cadena en la que se encuentra así como las coordenadas de inicio y de término\n",
    "\n",
    "### A partir de esta información la función obtiene la secuencia, ya sea en sentido positivo (`strand = \"+\"`) o en reverso complementario (`strand = \"-\"`)"
   ]
  },
  {
   "cell_type": "code",
   "execution_count": null,
   "id": "b6b2b137-728c-4d8d-8fc2-99dbe67bdbec",
   "metadata": {},
   "outputs": [],
   "source": [
    "def get_orf_sequence(orf_df,genome,orf_id):\n",
    "    strand    = list(orf_df[orf_df[\"id\"]==orf_id][\"strand\"])[0]\n",
    "    start_pos = int(orf_df[orf_df[\"id\"]==orf_id][\"start\"])\n",
    "    stop_pos  = int(orf_df[orf_df[\"id\"]==orf_id][\"stop\"])    \n",
    "    if(strand==\"-\"):\n",
    "        orf_sequence = genome[start_pos:stop_pos]\n",
    "        orf_sequence = reverse_complement(orf_sequence)\n",
    "    else:\n",
    "        orf_sequence = genome[start_pos-1:stop_pos]\n",
    "    return orf_sequence"
   ]
  },
  {
   "cell_type": "markdown",
   "id": "c3787cb8-3c2a-4bfd-bba8-5cb6573a7404",
   "metadata": {
    "jp-MarkdownHeadingCollapsed": true,
    "tags": []
   },
   "source": [
    "## 1.7. Finalmente, con el siguiente bloque de código construimos una función para traducir ORFs"
   ]
  },
  {
   "cell_type": "markdown",
   "id": "c5982c96-518b-4118-9845-132bcd89c10b",
   "metadata": {},
   "source": [
    "### Recuerdas el diccionario con el código genético que definimos anteriormente?\n",
    "### Recuerdas la función que construimos para transformar nuestras secuencias en listas de codones?\n",
    "### La función realiza los siguientes pasos:\n",
    "* Toma la secuencia del ORF, que obtuvimos con `get_orf_sequence()`\n",
    "* La convierte en una lista de codones con `get_codon_list()`\n",
    "* Mapea cada codón al diccionario del código genético para determinar que amino ácido le corresponde a cada codón"
   ]
  },
  {
   "cell_type": "code",
   "execution_count": null,
   "id": "01b42433-cb90-4757-a2e3-d7ed3f94b281",
   "metadata": {},
   "outputs": [],
   "source": [
    "def translate_orf(orf_sequence):\n",
    "    amino_acid_str = \"\"\n",
    "    codon_list = get_codon_list(orf_sequence)\n",
    "    for codon in codon_list:\n",
    "        amino_acid = genetic_code[codon]\n",
    "        amino_acid_str += amino_acid\n",
    "    return amino_acid_str"
   ]
  },
  {
   "cell_type": "markdown",
   "id": "4bdf1e6c-1c35-4091-92f0-c6842af281ae",
   "metadata": {
    "jp-MarkdownHeadingCollapsed": true,
    "tags": []
   },
   "source": [
    "# 2. Manos a la obra"
   ]
  },
  {
   "cell_type": "markdown",
   "id": "8d230abd-cfdc-4e67-ac7d-e63c0af64934",
   "metadata": {
    "jp-MarkdownHeadingCollapsed": true,
    "tags": []
   },
   "source": [
    "## 2.1. Vamos a descargar un genoma usando la biblioteca de NCBI - Entrez"
   ]
  },
  {
   "cell_type": "markdown",
   "id": "f17d6f05-da8e-422f-9de1-e9c0c603bb14",
   "metadata": {},
   "source": [
    "### Con las siguientes líneas de código puedes descargar secuencias en formato `fasta`\n",
    "### La última línea elimina el encabezado de la secuencia y nos deja el genoma en una sola línea de texto"
   ]
  },
  {
   "cell_type": "code",
   "execution_count": null,
   "id": "a2b01dce-a8a0-43ab-b289-fb5ca8d8f133",
   "metadata": {},
   "outputs": [],
   "source": [
    "genome_name = \"NC_041953\"\n",
    "#genome_name = \"JAFELC02\"\n",
    "genome = Entrez.efetch(db=\"nucleotide\", id=genome_name, rettype=\"fasta\", retmode=\"text\").read()\n",
    "genome = re.sub(r\"\\>.*\\n\", \"\", genome).replace(\"\\n\",\"\")"
   ]
  },
  {
   "cell_type": "markdown",
   "id": "fe848b59-2f52-4cd5-8b55-669cc30fe3cf",
   "metadata": {
    "jp-MarkdownHeadingCollapsed": true,
    "tags": []
   },
   "source": [
    "## 2.2. Posteriormente obtenemos las posiciones de los ORFs mayores a 100 amino ácidos en cada uno de los seis marcos de lectura usando las funciones que definimos en el paso 1"
   ]
  },
  {
   "cell_type": "code",
   "execution_count": null,
   "id": "7e5a9bca-316f-4be6-ab87-54d257dde0de",
   "metadata": {},
   "outputs": [],
   "source": [
    "plus_one_pos_list    = get_orf_pos_list(genome, 1,100)\n",
    "plus_two_pos_list    = get_orf_pos_list(genome, 2,100)\n",
    "plus_three_pos_list  = get_orf_pos_list(genome, 3,100)\n",
    "minus_one_pos_list   = get_orf_pos_list(genome,-1,100)\n",
    "minus_two_pos_list   = get_orf_pos_list(genome,-2,100)\n",
    "minus_three_pos_list = get_orf_pos_list(genome,-3,100)"
   ]
  },
  {
   "cell_type": "markdown",
   "id": "586e5bcd-cf75-4290-a164-2088816ba5f7",
   "metadata": {
    "jp-MarkdownHeadingCollapsed": true,
    "tags": []
   },
   "source": [
    "## 2.3. A partir de estas listas de coordenadas, construimos dos dataframes:\n",
    "\n",
    "* Los ORFs localizados en la cadena positiva del genoma\n",
    "* Los ORFs localizados en la cadena negativa del genoma"
   ]
  },
  {
   "cell_type": "code",
   "execution_count": null,
   "id": "9c9acafb-5895-4843-bc6f-93c37ac8e2fc",
   "metadata": {},
   "outputs": [],
   "source": [
    "plus_orf_pos_list  = plus_one_pos_list  + plus_two_pos_list  + plus_three_pos_list\n",
    "minus_orf_pos_list = minus_one_pos_list + minus_two_pos_list + minus_three_pos_list\n",
    "plus_orf_df = pd.DataFrame(plus_orf_pos_list,columns=[\"start\",\"stop\"])\n",
    "minus_orf_df = pd.DataFrame(minus_orf_pos_list,columns=[\"stop\",\"start\"])"
   ]
  },
  {
   "cell_type": "markdown",
   "id": "38990bf6-2f90-4279-bc3f-def1af72d3a2",
   "metadata": {
    "jp-MarkdownHeadingCollapsed": true,
    "tags": []
   },
   "source": [
    "## 2.4. Luego agregamos la información de la cadena a cada uno de los dataframes\n",
    "### Habiendo etiquetado nuestros ORFs, podemos concatenarlos en un sólo objeto"
   ]
  },
  {
   "cell_type": "code",
   "execution_count": null,
   "id": "583ffd36-1f2f-4b57-b97d-277df41aa961",
   "metadata": {},
   "outputs": [],
   "source": [
    "plus_orf_df[\"strand\"]  = \"+\"\n",
    "minus_orf_df[\"strand\"] = \"-\"\n",
    "plus_orf_df = plus_orf_df[[\"start\",\"stop\",\"strand\"]]\n",
    "minus_orf_df = minus_orf_df[[\"start\",\"stop\",\"strand\"]]\n",
    "orf_df = pd.concat([plus_orf_df,minus_orf_df],ignore_index=True)"
   ]
  },
  {
   "cell_type": "markdown",
   "id": "258dba95-1485-4511-8037-3bee8ce2057b",
   "metadata": {
    "jp-MarkdownHeadingCollapsed": true,
    "tags": []
   },
   "source": [
    "## 2.4.1. Al concatenar los dataframes, los ORFs no quedan ordenados de forma lógica, por lo que debemos ordenarlos con base en su coordenada de inicio\n",
    "### Al tener nuestros ORFs ordenados, podemos agregarles una etiqueta que indique de qué genoma vienen y cual es su número de aparición en el genoma"
   ]
  },
  {
   "cell_type": "code",
   "execution_count": null,
   "id": "bbdfda34-feb7-4aa9-894f-6510285a16d7",
   "metadata": {},
   "outputs": [],
   "source": [
    "orf_df = orf_df.sort_values(by=[\"start\"],ignore_index=True)\n",
    "orf_df[\"genome\"] = genome_name\n",
    "orf_df[\"id\"] = np.arange(len(orf_df)).astype(str)\n",
    "orf_df[\"id\"] = orf_df[\"genome\"]+\".\"+orf_df[\"id\"]"
   ]
  },
  {
   "cell_type": "markdown",
   "id": "3c5b04a4-eae6-4744-89f2-8d219733cedf",
   "metadata": {
    "jp-MarkdownHeadingCollapsed": true,
    "tags": []
   },
   "source": [
    "## 2.5. Ya con los ORFs identificados, podemos obtener su secuencia codificante y agregarla como una columna extra en el dataframe"
   ]
  },
  {
   "cell_type": "code",
   "execution_count": null,
   "id": "7e603340-8552-4716-966f-71cc24171f44",
   "metadata": {},
   "outputs": [],
   "source": [
    "orf_df[\"orf_sequence\"] = orf_df[\"id\"].apply(lambda x: get_orf_sequence(orf_df,genome,x))"
   ]
  },
  {
   "cell_type": "markdown",
   "id": "66a0a0a8-88b5-4b37-952f-8825974566d2",
   "metadata": {
    "jp-MarkdownHeadingCollapsed": true,
    "tags": []
   },
   "source": [
    "## 2.6. Y podemos agregar también la traducción de dicha secuencia usando `translate_orf()`"
   ]
  },
  {
   "cell_type": "code",
   "execution_count": null,
   "id": "df0e9ced-f61a-45cc-b34c-3bc3d54a251a",
   "metadata": {},
   "outputs": [],
   "source": [
    "orf_df[\"orf_translation\"] = orf_df[\"orf_sequence\"].apply(lambda x: translate_orf(x))"
   ]
  },
  {
   "cell_type": "markdown",
   "id": "977d9a21-8d70-4ee2-b89c-3b1d93bcad51",
   "metadata": {},
   "source": [
    "### Nuestra predicción de ORFs va acumulando información que no solamente es parecida a la estructura del formato de anotaciones genómicas `General Feature Format`, sino que también es compatible con dicho formato.\n",
    "#### A partir de nuestro dataframe podemos construir un archivo `.gff` muy parecido a los que están depositados en GenBank\n",
    "### Para ello agregaremos una columna con la información del ORF"
   ]
  },
  {
   "cell_type": "code",
   "execution_count": null,
   "id": "e3c77064-0f60-4fbb-b5da-08eb9eb0120f",
   "metadata": {},
   "outputs": [],
   "source": [
    "orf_df[\"info\"] = \"Id=\"+orf_df[\"id\"]+\";translation=\"+orf_df[\"orf_translation\"]+\";product=hypothetical protein\""
   ]
  },
  {
   "cell_type": "markdown",
   "id": "c979c6da-bb0e-4ffd-a46a-8e22eb415a15",
   "metadata": {
    "jp-MarkdownHeadingCollapsed": true,
    "tags": []
   },
   "source": [
    "## 2.7. Agregamos un par de columnas que indican que tipo de información y de que fuente estamos obteniendo dicha información"
   ]
  },
  {
   "cell_type": "code",
   "execution_count": null,
   "id": "ff0020c6-9ec3-4124-812a-d13f0ad22bbe",
   "metadata": {},
   "outputs": [],
   "source": [
    "orf_df[\"score\"]  = \".\"\n",
    "orf_df[\"phase\"]  = \".\"\n",
    "orf_df[\"type\"]   = \"CDS\"\n",
    "orf_df[\"source\"] = \"python_orfinder\""
   ]
  },
  {
   "cell_type": "markdown",
   "id": "8887fd11-a0fd-49fc-9e32-b48c60b87bae",
   "metadata": {
    "jp-MarkdownHeadingCollapsed": true,
    "tags": []
   },
   "source": [
    "## 2.8. Guardamos nuestro dataframe en un archivo `.gff`\n",
    "### Con la función `.to_csv()` de pandas, podemos almacenar la información de nuestro dataframe a un archivo tabular, en este punto ya tenemos la información necesaria para guardar nuestras predicciones en un archivo `.gff`"
   ]
  },
  {
   "cell_type": "code",
   "execution_count": null,
   "id": "4d8436d9-dddf-464f-9560-00922c150243",
   "metadata": {},
   "outputs": [],
   "source": [
    "orf_df[[\"genome\",\"source\",\"type\",\"start\",\"stop\",\"score\",\"strand\",\"phase\",\"info\"]].to_csv(genome_name+\".gff\",sep=\"\\t\",header=False,index=False)"
   ]
  },
  {
   "cell_type": "markdown",
   "id": "c8e1f8e1-786f-4cd8-ab5a-f5a28be77446",
   "metadata": {
    "jp-MarkdownHeadingCollapsed": true,
    "tags": []
   },
   "source": [
    "## 2.9. Guardamos las traducciones de nuestros ORFs en formato `.fasta` para análisis subsecuentes"
   ]
  },
  {
   "cell_type": "code",
   "execution_count": null,
   "id": "554aa7ea-1f73-4487-bf23-5c534c54c948",
   "metadata": {},
   "outputs": [],
   "source": [
    "with open(genome_name+\".faa\",\"w\") as file_name:\n",
    "    fasta_str = \"\"\n",
    "    for orf_id,orf_translation in list(orf_df[[\"id\",\"orf_translation\"]].values):\n",
    "        fasta_str += \">\" + orf_id + \"\\n\" + orf_translation +\"\\n\"\n",
    "    file_name.write(fasta_str)"
   ]
  }
 ],
 "metadata": {
  "kernelspec": {
   "display_name": "Python 3 (ipykernel)",
   "language": "python",
   "name": "python3"
  },
  "language_info": {
   "codemirror_mode": {
    "name": "ipython",
    "version": 3
   },
   "file_extension": ".py",
   "mimetype": "text/x-python",
   "name": "python",
   "nbconvert_exporter": "python",
   "pygments_lexer": "ipython3",
   "version": "3.9.15"
  }
 },
 "nbformat": 4,
 "nbformat_minor": 5
}
